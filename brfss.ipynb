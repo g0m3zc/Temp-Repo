{
 "cells": [
  {
   "cell_type": "code",
   "execution_count": 1,
   "metadata": {},
   "outputs": [],
   "source": [
    " # Import dependancies\n",
    "from pathlib import Path\n",
    "import pandas as pd\n",
    "import numpy as np\n",
    "import matplotlib.pyplot as plt\n",
    "import re"
   ]
  },
  {
   "cell_type": "code",
   "execution_count": 2,
   "metadata": {},
   "outputs": [
    {
     "data": {
      "text/html": [
       "<div>\n",
       "<style scoped>\n",
       "    .dataframe tbody tr th:only-of-type {\n",
       "        vertical-align: middle;\n",
       "    }\n",
       "\n",
       "    .dataframe tbody tr th {\n",
       "        vertical-align: top;\n",
       "    }\n",
       "\n",
       "    .dataframe thead th {\n",
       "        text-align: right;\n",
       "    }\n",
       "</style>\n",
       "<table border=\"1\" class=\"dataframe\">\n",
       "  <thead>\n",
       "    <tr style=\"text-align: right;\">\n",
       "      <th></th>\n",
       "      <th>has_primary_doc</th>\n",
       "      <th>checkup_within_last_year</th>\n",
       "      <th>skin_cancer</th>\n",
       "      <th>any_other_cancer</th>\n",
       "      <th>income</th>\n",
       "      <th>difficulty_consentrating_remembering_decisions</th>\n",
       "      <th>difficulty_walking_or_stairs</th>\n",
       "      <th>has_health_plan</th>\n",
       "      <th>30_min_physical_activity</th>\n",
       "      <th>BMI</th>\n",
       "      <th>overweight_or_obese</th>\n",
       "      <th>adult_current_smoker</th>\n",
       "      <th>bing_drinkers</th>\n",
       "      <th>eat_fruit_daily</th>\n",
       "      <th>eat_veg_daily</th>\n",
       "      <th>urban_rural</th>\n",
       "    </tr>\n",
       "  </thead>\n",
       "  <tbody>\n",
       "    <tr>\n",
       "      <th>0</th>\n",
       "      <td>Yes</td>\n",
       "      <td>No</td>\n",
       "      <td>No</td>\n",
       "      <td>No</td>\n",
       "      <td>$25,000 to &lt; $35,000</td>\n",
       "      <td>No</td>\n",
       "      <td>No</td>\n",
       "      <td>Yes</td>\n",
       "      <td>No</td>\n",
       "      <td>1454.0</td>\n",
       "      <td>No</td>\n",
       "      <td>No</td>\n",
       "      <td>No</td>\n",
       "      <td>No</td>\n",
       "      <td>No</td>\n",
       "      <td>Urban</td>\n",
       "    </tr>\n",
       "    <tr>\n",
       "      <th>1</th>\n",
       "      <td>Yes</td>\n",
       "      <td>Yes</td>\n",
       "      <td>No</td>\n",
       "      <td>No</td>\n",
       "      <td>NaN</td>\n",
       "      <td>Yes</td>\n",
       "      <td>Yes</td>\n",
       "      <td>Yes</td>\n",
       "      <td>Yes</td>\n",
       "      <td>NaN</td>\n",
       "      <td>NaN</td>\n",
       "      <td>No</td>\n",
       "      <td>No</td>\n",
       "      <td>No</td>\n",
       "      <td>No</td>\n",
       "      <td>Urban</td>\n",
       "    </tr>\n",
       "    <tr>\n",
       "      <th>2</th>\n",
       "      <td>Yes</td>\n",
       "      <td>Yes</td>\n",
       "      <td>No</td>\n",
       "      <td>No</td>\n",
       "      <td>$15,000 to &lt; $20,000</td>\n",
       "      <td>No</td>\n",
       "      <td>No</td>\n",
       "      <td>Yes</td>\n",
       "      <td>No</td>\n",
       "      <td>2829.0</td>\n",
       "      <td>Yes</td>\n",
       "      <td>No</td>\n",
       "      <td>No</td>\n",
       "      <td>No</td>\n",
       "      <td>Yes</td>\n",
       "      <td>Urban</td>\n",
       "    </tr>\n",
       "    <tr>\n",
       "      <th>3</th>\n",
       "      <td>Yes</td>\n",
       "      <td>Yes</td>\n",
       "      <td>No</td>\n",
       "      <td>No</td>\n",
       "      <td>$50,000 to &lt; $75,000</td>\n",
       "      <td>No</td>\n",
       "      <td>No</td>\n",
       "      <td>Yes</td>\n",
       "      <td>Yes</td>\n",
       "      <td>3347.0</td>\n",
       "      <td>Yes</td>\n",
       "      <td>No</td>\n",
       "      <td>Yes</td>\n",
       "      <td>No</td>\n",
       "      <td>No</td>\n",
       "      <td>Urban</td>\n",
       "    </tr>\n",
       "    <tr>\n",
       "      <th>4</th>\n",
       "      <td>Yes</td>\n",
       "      <td>Yes</td>\n",
       "      <td>No</td>\n",
       "      <td>No</td>\n",
       "      <td>$20,000 to &lt; $25,000</td>\n",
       "      <td>No</td>\n",
       "      <td>Yes</td>\n",
       "      <td>Yes</td>\n",
       "      <td>Yes</td>\n",
       "      <td>2873.0</td>\n",
       "      <td>Yes</td>\n",
       "      <td>No</td>\n",
       "      <td>No</td>\n",
       "      <td>No</td>\n",
       "      <td>No</td>\n",
       "      <td>Urban</td>\n",
       "    </tr>\n",
       "  </tbody>\n",
       "</table>\n",
       "</div>"
      ],
      "text/plain": [
       "  has_primary_doc checkup_within_last_year skin_cancer any_other_cancer  \\\n",
       "0             Yes                       No          No               No   \n",
       "1             Yes                      Yes          No               No   \n",
       "2             Yes                      Yes          No               No   \n",
       "3             Yes                      Yes          No               No   \n",
       "4             Yes                      Yes          No               No   \n",
       "\n",
       "                 income difficulty_consentrating_remembering_decisions  \\\n",
       "0  $25,000 to < $35,000                                             No   \n",
       "1                   NaN                                            Yes   \n",
       "2  $15,000 to < $20,000                                             No   \n",
       "3  $50,000 to < $75,000                                             No   \n",
       "4  $20,000 to < $25,000                                             No   \n",
       "\n",
       "  difficulty_walking_or_stairs has_health_plan 30_min_physical_activity  \\\n",
       "0                           No             Yes                       No   \n",
       "1                          Yes             Yes                      Yes   \n",
       "2                           No             Yes                       No   \n",
       "3                           No             Yes                      Yes   \n",
       "4                          Yes             Yes                      Yes   \n",
       "\n",
       "      BMI overweight_or_obese adult_current_smoker bing_drinkers  \\\n",
       "0  1454.0                  No                   No            No   \n",
       "1     NaN                 NaN                   No            No   \n",
       "2  2829.0                 Yes                   No            No   \n",
       "3  3347.0                 Yes                   No           Yes   \n",
       "4  2873.0                 Yes                   No            No   \n",
       "\n",
       "  eat_fruit_daily eat_veg_daily urban_rural  \n",
       "0              No            No       Urban  \n",
       "1              No            No       Urban  \n",
       "2              No           Yes       Urban  \n",
       "3              No            No       Urban  \n",
       "4              No            No       Urban  "
      ]
     },
     "execution_count": 2,
     "metadata": {},
     "output_type": "execute_result"
    }
   ],
   "source": [
    "# Import the data\n",
    "data = Path('LLCP2021XPT/selected_data.csv')\n",
    "df = pd.read_csv(data)\n",
    "df.head(5)"
   ]
  },
  {
   "cell_type": "code",
   "execution_count": 3,
   "metadata": {},
   "outputs": [
    {
     "data": {
      "text/plain": [
       "(438693, 16)"
      ]
     },
     "execution_count": 3,
     "metadata": {},
     "output_type": "execute_result"
    }
   ],
   "source": [
    "df.shape"
   ]
  },
  {
   "cell_type": "code",
   "execution_count": 4,
   "metadata": {},
   "outputs": [
    {
     "name": "stdout",
     "output_type": "stream",
     "text": [
      "has_primary_doc has 3705 NAs\n",
      "checkup_within_last_year has 5905 NAs\n",
      "skin_cancer has 1441 NAs\n",
      "any_other_cancer has 1364 NAs\n",
      "income has 94413 NAs\n",
      "difficulty_consentrating_remembering_decisions has 19980 NAs\n",
      "difficulty_walking_or_stairs has 19830 NAs\n",
      "has_health_plan has 17397 NAs\n",
      "30_min_physical_activity has 928 NAs\n",
      "BMI has 46852 NAs\n",
      "overweight_or_obese has 46852 NAs\n",
      "adult_current_smoker has 24970 NAs\n",
      "bing_drinkers has 35322 NAs\n",
      "eat_fruit_daily has 51087 NAs\n",
      "eat_veg_daily has 60127 NAs\n",
      "urban_rural has 7054 NAs\n"
     ]
    }
   ],
   "source": [
    "# Count NAs\n",
    "for i in df:\n",
    "    if df[i].isna().sum() >0:\n",
    "        \n",
    "        print(f'{i} has {df[i].isna().sum()} NAs')"
   ]
  },
  {
   "cell_type": "code",
   "execution_count": 5,
   "metadata": {},
   "outputs": [],
   "source": [
    "# Drop income & BMI\n",
    "\n",
    "df = df.drop(columns = [\"BMI\",\"income\", \"difficulty_consentrating_remembering_decisions\", \"difficulty_walking_or_stairs\" ], axis = 1)"
   ]
  },
  {
   "cell_type": "code",
   "execution_count": 6,
   "metadata": {},
   "outputs": [
    {
     "data": {
      "text/plain": [
       "(317251, 12)"
      ]
     },
     "execution_count": 6,
     "metadata": {},
     "output_type": "execute_result"
    }
   ],
   "source": [
    "# Drop NAs\n",
    "df = df.dropna()\n",
    "df.shape"
   ]
  },
  {
   "cell_type": "code",
   "execution_count": 7,
   "metadata": {},
   "outputs": [
    {
     "data": {
      "text/plain": [
       "Index(['has_primary_doc', 'checkup_within_last_year', 'skin_cancer',\n",
       "       'any_other_cancer', 'has_health_plan', '30_min_physical_activity',\n",
       "       'overweight_or_obese', 'adult_current_smoker', 'bing_drinkers',\n",
       "       'eat_fruit_daily', 'eat_veg_daily', 'urban_rural'],\n",
       "      dtype='object')"
      ]
     },
     "execution_count": 7,
     "metadata": {},
     "output_type": "execute_result"
    }
   ],
   "source": [
    "df.columns"
   ]
  },
  {
   "cell_type": "code",
   "execution_count": 14,
   "metadata": {},
   "outputs": [
    {
     "data": {
      "text/html": [
       "<div>\n",
       "<style scoped>\n",
       "    .dataframe tbody tr th:only-of-type {\n",
       "        vertical-align: middle;\n",
       "    }\n",
       "\n",
       "    .dataframe tbody tr th {\n",
       "        vertical-align: top;\n",
       "    }\n",
       "\n",
       "    .dataframe thead th {\n",
       "        text-align: right;\n",
       "    }\n",
       "</style>\n",
       "<table border=\"1\" class=\"dataframe\">\n",
       "  <thead>\n",
       "    <tr style=\"text-align: right;\">\n",
       "      <th></th>\n",
       "      <th>has_primary_doc</th>\n",
       "      <th>checkup_within_last_year</th>\n",
       "      <th>skin_cancer</th>\n",
       "      <th>any_other_cancer</th>\n",
       "      <th>has_health_plan</th>\n",
       "      <th>30_min_physical_activity</th>\n",
       "      <th>overweight_or_obese</th>\n",
       "      <th>adult_current_smoker</th>\n",
       "      <th>bing_drinkers</th>\n",
       "      <th>eat_fruit_daily</th>\n",
       "      <th>eat_veg_daily</th>\n",
       "      <th>urban_rural</th>\n",
       "    </tr>\n",
       "  </thead>\n",
       "  <tbody>\n",
       "    <tr>\n",
       "      <th>0</th>\n",
       "      <td>Yes</td>\n",
       "      <td>No</td>\n",
       "      <td>No</td>\n",
       "      <td>No</td>\n",
       "      <td>Yes</td>\n",
       "      <td>No</td>\n",
       "      <td>No</td>\n",
       "      <td>No</td>\n",
       "      <td>No</td>\n",
       "      <td>No</td>\n",
       "      <td>No</td>\n",
       "      <td>Urban</td>\n",
       "    </tr>\n",
       "    <tr>\n",
       "      <th>2</th>\n",
       "      <td>Yes</td>\n",
       "      <td>Yes</td>\n",
       "      <td>No</td>\n",
       "      <td>No</td>\n",
       "      <td>Yes</td>\n",
       "      <td>No</td>\n",
       "      <td>Yes</td>\n",
       "      <td>No</td>\n",
       "      <td>No</td>\n",
       "      <td>No</td>\n",
       "      <td>Yes</td>\n",
       "      <td>Urban</td>\n",
       "    </tr>\n",
       "    <tr>\n",
       "      <th>3</th>\n",
       "      <td>Yes</td>\n",
       "      <td>Yes</td>\n",
       "      <td>No</td>\n",
       "      <td>No</td>\n",
       "      <td>Yes</td>\n",
       "      <td>Yes</td>\n",
       "      <td>Yes</td>\n",
       "      <td>No</td>\n",
       "      <td>Yes</td>\n",
       "      <td>No</td>\n",
       "      <td>No</td>\n",
       "      <td>Urban</td>\n",
       "    </tr>\n",
       "    <tr>\n",
       "      <th>4</th>\n",
       "      <td>Yes</td>\n",
       "      <td>Yes</td>\n",
       "      <td>No</td>\n",
       "      <td>No</td>\n",
       "      <td>Yes</td>\n",
       "      <td>Yes</td>\n",
       "      <td>Yes</td>\n",
       "      <td>No</td>\n",
       "      <td>No</td>\n",
       "      <td>No</td>\n",
       "      <td>No</td>\n",
       "      <td>Urban</td>\n",
       "    </tr>\n",
       "    <tr>\n",
       "      <th>5</th>\n",
       "      <td>Yes</td>\n",
       "      <td>Yes</td>\n",
       "      <td>No</td>\n",
       "      <td>No</td>\n",
       "      <td>Yes</td>\n",
       "      <td>No</td>\n",
       "      <td>No</td>\n",
       "      <td>No</td>\n",
       "      <td>No</td>\n",
       "      <td>Yes</td>\n",
       "      <td>Yes</td>\n",
       "      <td>Rural</td>\n",
       "    </tr>\n",
       "  </tbody>\n",
       "</table>\n",
       "</div>"
      ],
      "text/plain": [
       "  has_primary_doc checkup_within_last_year skin_cancer any_other_cancer  \\\n",
       "0             Yes                       No          No               No   \n",
       "2             Yes                      Yes          No               No   \n",
       "3             Yes                      Yes          No               No   \n",
       "4             Yes                      Yes          No               No   \n",
       "5             Yes                      Yes          No               No   \n",
       "\n",
       "  has_health_plan 30_min_physical_activity overweight_or_obese  \\\n",
       "0             Yes                       No                  No   \n",
       "2             Yes                       No                 Yes   \n",
       "3             Yes                      Yes                 Yes   \n",
       "4             Yes                      Yes                 Yes   \n",
       "5             Yes                       No                  No   \n",
       "\n",
       "  adult_current_smoker bing_drinkers eat_fruit_daily eat_veg_daily urban_rural  \n",
       "0                   No            No              No            No       Urban  \n",
       "2                   No            No              No           Yes       Urban  \n",
       "3                   No           Yes              No            No       Urban  \n",
       "4                   No            No              No            No       Urban  \n",
       "5                   No            No             Yes           Yes       Rural  "
      ]
     },
     "execution_count": 14,
     "metadata": {},
     "output_type": "execute_result"
    }
   ],
   "source": [
    "df.head()"
   ]
  },
  {
   "cell_type": "code",
   "execution_count": 16,
   "metadata": {},
   "outputs": [],
   "source": [
    "from sklearn.preprocessing import LabelEncoder\n",
    "le = LabelEncoder()\n",
    "df_ml = df.copy()\n",
    "\n",
    "clmns = ['has_primary_doc', 'checkup_within_last_year', 'skin_cancer',\n",
    "       'any_other_cancer', 'has_health_plan', '30_min_physical_activity',\n",
    "       'overweight_or_obese', 'adult_current_smoker', 'bing_drinkers',\n",
    "       'eat_fruit_daily', 'eat_veg_daily', 'urban_rural']\n",
    "\n",
    "df_ml[clmns] = df_ml[clmns].apply(le.fit_transform)\n",
    "\n",
    "\n",
    "\n",
    "\n",
    "\n"
   ]
  },
  {
   "cell_type": "code",
   "execution_count": 17,
   "metadata": {},
   "outputs": [
    {
     "data": {
      "text/html": [
       "<div>\n",
       "<style scoped>\n",
       "    .dataframe tbody tr th:only-of-type {\n",
       "        vertical-align: middle;\n",
       "    }\n",
       "\n",
       "    .dataframe tbody tr th {\n",
       "        vertical-align: top;\n",
       "    }\n",
       "\n",
       "    .dataframe thead th {\n",
       "        text-align: right;\n",
       "    }\n",
       "</style>\n",
       "<table border=\"1\" class=\"dataframe\">\n",
       "  <thead>\n",
       "    <tr style=\"text-align: right;\">\n",
       "      <th></th>\n",
       "      <th>has_primary_doc</th>\n",
       "      <th>checkup_within_last_year</th>\n",
       "      <th>skin_cancer</th>\n",
       "      <th>any_other_cancer</th>\n",
       "      <th>has_health_plan</th>\n",
       "      <th>30_min_physical_activity</th>\n",
       "      <th>overweight_or_obese</th>\n",
       "      <th>adult_current_smoker</th>\n",
       "      <th>bing_drinkers</th>\n",
       "      <th>eat_fruit_daily</th>\n",
       "      <th>eat_veg_daily</th>\n",
       "      <th>urban_rural</th>\n",
       "    </tr>\n",
       "  </thead>\n",
       "  <tbody>\n",
       "    <tr>\n",
       "      <th>0</th>\n",
       "      <td>1</td>\n",
       "      <td>0</td>\n",
       "      <td>0</td>\n",
       "      <td>0</td>\n",
       "      <td>1</td>\n",
       "      <td>0</td>\n",
       "      <td>0</td>\n",
       "      <td>0</td>\n",
       "      <td>0</td>\n",
       "      <td>0</td>\n",
       "      <td>0</td>\n",
       "      <td>1</td>\n",
       "    </tr>\n",
       "    <tr>\n",
       "      <th>2</th>\n",
       "      <td>1</td>\n",
       "      <td>1</td>\n",
       "      <td>0</td>\n",
       "      <td>0</td>\n",
       "      <td>1</td>\n",
       "      <td>0</td>\n",
       "      <td>1</td>\n",
       "      <td>0</td>\n",
       "      <td>0</td>\n",
       "      <td>0</td>\n",
       "      <td>1</td>\n",
       "      <td>1</td>\n",
       "    </tr>\n",
       "    <tr>\n",
       "      <th>3</th>\n",
       "      <td>1</td>\n",
       "      <td>1</td>\n",
       "      <td>0</td>\n",
       "      <td>0</td>\n",
       "      <td>1</td>\n",
       "      <td>1</td>\n",
       "      <td>1</td>\n",
       "      <td>0</td>\n",
       "      <td>1</td>\n",
       "      <td>0</td>\n",
       "      <td>0</td>\n",
       "      <td>1</td>\n",
       "    </tr>\n",
       "    <tr>\n",
       "      <th>4</th>\n",
       "      <td>1</td>\n",
       "      <td>1</td>\n",
       "      <td>0</td>\n",
       "      <td>0</td>\n",
       "      <td>1</td>\n",
       "      <td>1</td>\n",
       "      <td>1</td>\n",
       "      <td>0</td>\n",
       "      <td>0</td>\n",
       "      <td>0</td>\n",
       "      <td>0</td>\n",
       "      <td>1</td>\n",
       "    </tr>\n",
       "    <tr>\n",
       "      <th>5</th>\n",
       "      <td>1</td>\n",
       "      <td>1</td>\n",
       "      <td>0</td>\n",
       "      <td>0</td>\n",
       "      <td>1</td>\n",
       "      <td>0</td>\n",
       "      <td>0</td>\n",
       "      <td>0</td>\n",
       "      <td>0</td>\n",
       "      <td>1</td>\n",
       "      <td>1</td>\n",
       "      <td>0</td>\n",
       "    </tr>\n",
       "  </tbody>\n",
       "</table>\n",
       "</div>"
      ],
      "text/plain": [
       "   has_primary_doc  checkup_within_last_year  skin_cancer  any_other_cancer  \\\n",
       "0                1                         0            0                 0   \n",
       "2                1                         1            0                 0   \n",
       "3                1                         1            0                 0   \n",
       "4                1                         1            0                 0   \n",
       "5                1                         1            0                 0   \n",
       "\n",
       "   has_health_plan  30_min_physical_activity  overweight_or_obese  \\\n",
       "0                1                         0                    0   \n",
       "2                1                         0                    1   \n",
       "3                1                         1                    1   \n",
       "4                1                         1                    1   \n",
       "5                1                         0                    0   \n",
       "\n",
       "   adult_current_smoker  bing_drinkers  eat_fruit_daily  eat_veg_daily  \\\n",
       "0                     0              0                0              0   \n",
       "2                     0              0                0              1   \n",
       "3                     0              1                0              0   \n",
       "4                     0              0                0              0   \n",
       "5                     0              0                1              1   \n",
       "\n",
       "   urban_rural  \n",
       "0            1  \n",
       "2            1  \n",
       "3            1  \n",
       "4            1  \n",
       "5            0  "
      ]
     },
     "execution_count": 17,
     "metadata": {},
     "output_type": "execute_result"
    }
   ],
   "source": [
    "df_ml.head()"
   ]
  },
  {
   "cell_type": "code",
   "execution_count": 18,
   "metadata": {},
   "outputs": [],
   "source": [
    "#Target\n",
    "y = df_ml[\"any_other_cancer\"]\n",
    "\n",
    "#Features\n",
    "X = df_ml.drop(columns=\"any_other_cancer\")"
   ]
  },
  {
   "cell_type": "code",
   "execution_count": 19,
   "metadata": {},
   "outputs": [
    {
     "data": {
      "text/plain": [
       "0    285387\n",
       "1     31864\n",
       "Name: any_other_cancer, dtype: int64"
      ]
     },
     "execution_count": 19,
     "metadata": {},
     "output_type": "execute_result"
    }
   ],
   "source": [
    "# Check the balance of our target values\n",
    "y.value_counts()"
   ]
  },
  {
   "cell_type": "code",
   "execution_count": 20,
   "metadata": {},
   "outputs": [
    {
     "data": {
      "text/plain": [
       "(253800, 11)"
      ]
     },
     "execution_count": 20,
     "metadata": {},
     "output_type": "execute_result"
    }
   ],
   "source": [
    "from sklearn.model_selection import train_test_split\n",
    "\n",
    "X_train, X_test, y_train, y_test = train_test_split(X, \n",
    "                                                    y, \n",
    "                                                    random_state=1, \n",
    "                                                    train_size=0.80)\n",
    "X_train.shape"
   ]
  },
  {
   "cell_type": "code",
   "execution_count": 21,
   "metadata": {},
   "outputs": [],
   "source": [
    "# Resample the training data with the BalancedRandomForestClassifier\n",
    "from imblearn.ensemble import BalancedRandomForestClassifier\n",
    "\n",
    "brf = BalancedRandomForestClassifier(n_estimators=100, random_state=1)"
   ]
  },
  {
   "cell_type": "code",
   "execution_count": 22,
   "metadata": {},
   "outputs": [
    {
     "data": {
      "text/plain": [
       "BalancedRandomForestClassifier(random_state=1)"
      ]
     },
     "execution_count": 22,
     "metadata": {},
     "output_type": "execute_result"
    }
   ],
   "source": [
    "# Fitting the model\n",
    "\n",
    "brf.fit(X_train, y_train)"
   ]
  },
  {
   "cell_type": "code",
   "execution_count": 23,
   "metadata": {},
   "outputs": [],
   "source": [
    "#Make Prediction\n",
    "predictions = brf.predict(X_test)"
   ]
  },
  {
   "cell_type": "code",
   "execution_count": 26,
   "metadata": {},
   "outputs": [],
   "source": [
    "from sklearn.metrics import balanced_accuracy_score\n",
    "from sklearn.metrics import confusion_matrix\n",
    "from imblearn.metrics import classification_report_imbalanced\n",
    "\n",
    "# Calculating the confusion matrix\n",
    "cm = confusion_matrix(y_test, predictions)\n",
    "cm_df = pd.DataFrame(\n",
    "    cm, index=[\"Actual 0\", \"Actual 1\"], columns=[\"Predicted 0\", \"Predicted 1\"]\n",
    ")\n",
    "\n",
    "# Calculating the balanced accuracy score\n",
    "acc_score = balanced_accuracy_score(y_test, predictions)"
   ]
  },
  {
   "cell_type": "code",
   "execution_count": 27,
   "metadata": {},
   "outputs": [
    {
     "name": "stdout",
     "output_type": "stream",
     "text": [
      "Confusion Matrix\n"
     ]
    },
    {
     "data": {
      "text/html": [
       "<div>\n",
       "<style scoped>\n",
       "    .dataframe tbody tr th:only-of-type {\n",
       "        vertical-align: middle;\n",
       "    }\n",
       "\n",
       "    .dataframe tbody tr th {\n",
       "        vertical-align: top;\n",
       "    }\n",
       "\n",
       "    .dataframe thead th {\n",
       "        text-align: right;\n",
       "    }\n",
       "</style>\n",
       "<table border=\"1\" class=\"dataframe\">\n",
       "  <thead>\n",
       "    <tr style=\"text-align: right;\">\n",
       "      <th></th>\n",
       "      <th>Predicted 0</th>\n",
       "      <th>Predicted 1</th>\n",
       "    </tr>\n",
       "  </thead>\n",
       "  <tbody>\n",
       "    <tr>\n",
       "      <th>Actual 0</th>\n",
       "      <td>31875</td>\n",
       "      <td>25194</td>\n",
       "    </tr>\n",
       "    <tr>\n",
       "      <th>Actual 1</th>\n",
       "      <td>2229</td>\n",
       "      <td>4153</td>\n",
       "    </tr>\n",
       "  </tbody>\n",
       "</table>\n",
       "</div>"
      ],
      "text/plain": [
       "          Predicted 0  Predicted 1\n",
       "Actual 0        31875        25194\n",
       "Actual 1         2229         4153"
      ]
     },
     "metadata": {},
     "output_type": "display_data"
    },
    {
     "name": "stdout",
     "output_type": "stream",
     "text": [
      "Accuracy Score : 0.6046354259872424\n"
     ]
    }
   ],
   "source": [
    "# Display the confusion matrix\n",
    "print(\"Confusion Matrix\")\n",
    "display(cm_df)\n",
    "print(f\"Accuracy Score : {acc_score}\")"
   ]
  },
  {
   "cell_type": "code",
   "execution_count": 28,
   "metadata": {},
   "outputs": [
    {
     "name": "stdout",
     "output_type": "stream",
     "text": [
      "Classification Report\n",
      "                   pre       rec       spe        f1       geo       iba       sup\n",
      "\n",
      "          0       0.93      0.56      0.65      0.70      0.60      0.36     57069\n",
      "          1       0.14      0.65      0.56      0.23      0.60      0.37      6382\n",
      "\n",
      "avg / total       0.85      0.57      0.64      0.65      0.60      0.36     63451\n",
      "\n"
     ]
    }
   ],
   "source": [
    "# Print the imbalanced classification report\n",
    "\n",
    "print(\"Classification Report\")\n",
    "print(classification_report_imbalanced(y_test, predictions))"
   ]
  },
  {
   "cell_type": "code",
   "execution_count": 29,
   "metadata": {},
   "outputs": [
    {
     "data": {
      "text/plain": [
       "array([0.13704626, 0.16437326, 0.31366272, 0.04718174, 0.0705737 ,\n",
       "       0.03349131, 0.03490985, 0.10206999, 0.03390198, 0.03146598,\n",
       "       0.03132321])"
      ]
     },
     "execution_count": 29,
     "metadata": {},
     "output_type": "execute_result"
    }
   ],
   "source": [
    "# List the features sorted in descending order by feature importance\n",
    "importances = brf.feature_importances_\n",
    "importances"
   ]
  },
  {
   "cell_type": "code",
   "execution_count": null,
   "metadata": {},
   "outputs": [],
   "source": []
  },
  {
   "cell_type": "code",
   "execution_count": null,
   "metadata": {},
   "outputs": [],
   "source": []
  },
  {
   "cell_type": "code",
   "execution_count": null,
   "metadata": {},
   "outputs": [],
   "source": []
  }
 ],
 "metadata": {
  "kernelspec": {
   "display_name": "mlenv",
   "language": "python",
   "name": "mlenv"
  },
  "language_info": {
   "codemirror_mode": {
    "name": "ipython",
    "version": 3
   },
   "file_extension": ".py",
   "mimetype": "text/x-python",
   "name": "python",
   "nbconvert_exporter": "python",
   "pygments_lexer": "ipython3",
   "version": "3.7.13"
  }
 },
 "nbformat": 4,
 "nbformat_minor": 4
}
